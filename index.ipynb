{
 "cells": [
  {
   "cell_type": "markdown",
   "metadata": {},
   "source": [
    "## Begleitmaterial für die Übung zur Messtechnik\n",
    "\n",
    "Die Notebooks sind unter den folgenden Links zu finden:\n",
    "\n",
    "* __Teil 1:__ [Messung mit Impulsanregung](notebooks/impulse.ipynb)\n",
    "* __Teil 2:__ [Messung mit Sinus-Sweep](notebooks/sweep.ipynb)\n",
    "\n",
    "## Jupyter Quick Start\n",
    "\n",
    "* Zum Ausführen aller Zellen eines Notebooks: Im Menü: Cell -> Run All\n",
    "* Zum Neustart (und erneutem Ausführen): Im Menü: Kernel - Restart\n",
    "* Zum Ausführen einer einzelnen Zelle: __Shift + Enter__ oder > Run-Button\n",
    "\n",
    "### License\n",
    "The content is provided as [Open Educational Resource](https://en.wikipedia.org/wiki/Open_educational_resources). The Jupyter notebooks and respective Python code are licensed under the open source [MIT license](https://opensource.org/licenses/MIT); Audio (*.ita and *.wav) files are licensed under the [Creative Commons 4.0](https://creativecommons.org/licenses/by/4.0/) license."
   ]
  }
 ],
 "metadata": {
  "kernelspec": {
   "display_name": "Python 3.9.13",
   "language": "python",
   "name": "python3"
  },
  "language_info": {
   "name": "python",
   "version": "3.9.13"
  },
  "orig_nbformat": 4,
  "vscode": {
   "interpreter": {
    "hash": "f13aaf9b2e148eaf3a7fe0f603baa3a41b0e669bea9c330e7b01aef6e63ba394"
   }
  }
 },
 "nbformat": 4,
 "nbformat_minor": 2
}
